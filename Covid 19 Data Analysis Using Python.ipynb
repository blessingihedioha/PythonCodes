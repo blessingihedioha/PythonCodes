{
 "cells": [
  {
   "cell_type": "markdown",
   "id": "6b5421c0",
   "metadata": {},
   "source": [
    "# Covid 19 Data Analysis\n",
    "## By Blessing Ihedioha\n",
    "### Learning Objective\n",
    "* Answer the question: Is there a correlation between the spread of corona in the countries and the level of how happy the people living in that country are.\n",
    "* Importing COVID19 dataset and preparing it for the analysis by dropping columns and aggregating rows.\n",
    "* Finding and calculating a good measure for the analysis.\n",
    "* Merging two datasets and finding correlations among the datasets.\n",
    "* Visualizing analysis results using Seaborn."
   ]
  },
  {
   "cell_type": "code",
   "execution_count": null,
   "id": "d34ff6e1",
   "metadata": {},
   "outputs": [],
   "source": [
    "#Import pandas, numpy, seaborn, and matplotlib module\n",
    "import pandas as pd \n",
    "import numpy as np \n",
    "import seaborn as sns\n",
    "import matplotlib.pyplot as plt "
   ]
  },
  {
   "cell_type": "code",
   "execution_count": null,
   "id": "7c50f28b",
   "metadata": {},
   "outputs": [],
   "source": [
    "#Import the covid 19 Dataset by John Hopkin University  using .read_csv\n",
    "covid19_csv_Data = pd.read_csv(\"Downloads\\covid19_Confirmed_dataset.csv\")"
   ]
  },
  {
   "cell_type": "code",
   "execution_count": null,
   "id": "9e33b5d0",
   "metadata": {},
   "outputs": [],
   "source": [
    "#Check the shape of the dataframe\n",
    "covid19_csv_Data.shape #Dataset has 266 by 104 cells. "
   ]
  },
  {
   "cell_type": "code",
   "execution_count": null,
   "id": "a7257edb",
   "metadata": {},
   "outputs": [],
   "source": [
    "#Clean out some unwanted columns \n",
    "covid19_csv_Data.drop([\"Lat\", \"Long\"], axis =1, inplace = True)"
   ]
  },
  {
   "cell_type": "code",
   "execution_count": 67,
   "id": "88711f3d",
   "metadata": {},
   "outputs": [],
   "source": [
    "#Aggregating the rows by the country\n",
    "Covid19_data_aggregated = covid19_csv_Data.groupby(\"Country/Region\").sum()"
   ]
  },
  {
   "cell_type": "code",
   "execution_count": 68,
   "id": "199e1401",
   "metadata": {},
   "outputs": [
    {
     "data": {
      "text/plain": [
       "<matplotlib.legend.Legend at 0x19717852b50>"
      ]
     },
     "execution_count": 68,
     "metadata": {},
     "output_type": "execute_result"
    },
    {
     "data": {
      "image/png": "[encoded data removed]",
      "text/plain": [
       "<Figure size 432x288 with 1 Axes>"
      ]
     },
     "metadata": {
      "needs_background": "light"
     },
     "output_type": "display_data"
    }
   ],
   "source": [
    "#Visualizing data related to a country, for instance Nigeria\n",
    "Covid19_data_aggregated.loc[\"Nigeria\"].plot()\n",
    "Covid19_data_aggregated.loc[\"Italy\"].plot()\n",
    "Covid19_data_aggregated.loc[\"China\"].plot()\n",
    "Covid19_data_aggregated.loc[\"US\"].plot()\n",
    "plt.legend()"
   ]
  },
  {
   "cell_type": "code",
   "execution_count": null,
   "id": "1b01d459",
   "metadata": {},
   "outputs": [],
   "source": [
    "#caculating the first derivative of the curve Nigeria\n",
    "Covid19_data_aggregated.loc[\"Nigeria\"].diff().plot()\n",
    "plt.legend()"
   ]
  },
  {
   "cell_type": "code",
   "execution_count": null,
   "id": "d019d901",
   "metadata": {},
   "outputs": [],
   "source": [
    "#caculating the first derivative of the curve US\n",
    "Covid19_data_aggregated.loc[\"US\"].diff().plot()\n",
    "plt.legend()"
   ]
  },
  {
   "cell_type": "code",
   "execution_count": null,
   "id": "54460314",
   "metadata": {},
   "outputs": [],
   "source": [
    "#caculating the first derivative of the curve China\n",
    "Covid19_data_aggregated.loc[\"China\"].diff().plot()\n",
    "plt.legend()"
   ]
  },
  {
   "cell_type": "code",
   "execution_count": null,
   "id": "5aab8299",
   "metadata": {},
   "outputs": [],
   "source": [
    "#caculating the first derivative of the curve Italy\n",
    "Covid19_data_aggregated.loc[\"Italy\"].diff().plot()\n",
    "plt.legend()"
   ]
  },
  {
   "cell_type": "code",
   "execution_count": null,
   "id": "01bf6670",
   "metadata": {},
   "outputs": [],
   "source": [
    "# find maxmimum infection rate for the countries\n",
    "Covid19_data_aggregated.loc[\"Nigeria\"].diff().max() # the maximum infection rate for China \n",
    "\n",
    "#Use the For loop to calculate the maximum infaction rate for all the countries\n",
    "Countries = list(Covid19_data_aggregated.index)\n",
    "max_Infection_Rate = []\n",
    "for c in Countries:\n",
    "   max_Infection_Rate.append(Covid19_data_aggregated.loc[c].diff().max())\n",
    "Covid19_data_aggregated[\"max_Infection_Rate\"]= max_Infection_Rate\n"
   ]
  },
  {
   "cell_type": "code",
   "execution_count": null,
   "id": "075d41d0",
   "metadata": {},
   "outputs": [],
   "source": [
    "#create a new dataframe with only needed column\n",
    "Corona_data = pd.DataFrame(Covid19_data_aggregated[\"max_Infection_Rate\"])"
   ]
  },
  {
   "cell_type": "markdown",
   "id": "f49d63a3",
   "metadata": {},
   "source": [
    "### Import happiness_report_csv  data set"
   ]
  },
  {
   "cell_type": "code",
   "execution_count": null,
   "id": "120f5236",
   "metadata": {},
   "outputs": [],
   "source": [
    "happiness_report_csv = pd.read_csv(\"Downloads\\worldwide_happiness_report.csv\") "
   ]
  },
  {
   "cell_type": "code",
   "execution_count": null,
   "id": "c406caca",
   "metadata": {},
   "outputs": [],
   "source": [
    "#Clean out some unwanted columns\n",
    "Useless_Cols = [\"Overall rank\",\"Score\",\"Generosity\",\"Perceptions of corruption\"]\n",
    "happiness_report_csv.drop(Useless_Cols, axis = 1, inplace = True)"
   ]
  },
  {
   "cell_type": "code",
   "execution_count": null,
   "id": "9336ff74",
   "metadata": {},
   "outputs": [],
   "source": [
    "# changing the indices of the dataframe\n",
    "happiness_report_csv.set_index(\"Country or region\",inplace = True)"
   ]
  },
  {
   "cell_type": "code",
   "execution_count": 63,
   "id": "e8dea89e",
   "metadata": {},
   "outputs": [],
   "source": [
    "#now let's join two dataset we have prepared\n",
    "data = Corona_data.join(happiness_report_csv, how = \"inner\")"
   ]
  },
  {
   "cell_type": "code",
   "execution_count": 64,
   "id": "adb38b24",
   "metadata": {},
   "outputs": [
    {
     "data": {
      "text/html": [
       "<div>\n",
       "<style scoped>\n",
       "    .dataframe tbody tr th:only-of-type {\n",
       "        vertical-align: middle;\n",
       "    }\n",
       "\n",
       "    .dataframe tbody tr th {\n",
       "        vertical-align: top;\n",
       "    }\n",
       "\n",
       "    .dataframe thead th {\n",
       "        text-align: right;\n",
       "    }\n",
       "</style>\n",
       "<table border=\"1\" class=\"dataframe\">\n",
       "  <thead>\n",
       "    <tr style=\"text-align: right;\">\n",
       "      <th></th>\n",
       "      <th>max_Infection_Rate</th>\n",
       "      <th>GDP per capita</th>\n",
       "      <th>Social support</th>\n",
       "      <th>Healthy life expectancy</th>\n",
       "      <th>Freedom to make life choices</th>\n",
       "    </tr>\n",
       "  </thead>\n",
       "  <tbody>\n",
       "    <tr>\n",
       "      <th>max_Infection_Rate</th>\n",
       "      <td>1.000000</td>\n",
       "      <td>0.250118</td>\n",
       "      <td>0.191958</td>\n",
       "      <td>0.289263</td>\n",
       "      <td>0.078196</td>\n",
       "    </tr>\n",
       "    <tr>\n",
       "      <th>GDP per capita</th>\n",
       "      <td>0.250118</td>\n",
       "      <td>1.000000</td>\n",
       "      <td>0.759468</td>\n",
       "      <td>0.863062</td>\n",
       "      <td>0.394603</td>\n",
       "    </tr>\n",
       "    <tr>\n",
       "      <th>Social support</th>\n",
       "      <td>0.191958</td>\n",
       "      <td>0.759468</td>\n",
       "      <td>1.000000</td>\n",
       "      <td>0.765286</td>\n",
       "      <td>0.456246</td>\n",
       "    </tr>\n",
       "    <tr>\n",
       "      <th>Healthy life expectancy</th>\n",
       "      <td>0.289263</td>\n",
       "      <td>0.863062</td>\n",
       "      <td>0.765286</td>\n",
       "      <td>1.000000</td>\n",
       "      <td>0.427892</td>\n",
       "    </tr>\n",
       "    <tr>\n",
       "      <th>Freedom to make life choices</th>\n",
       "      <td>0.078196</td>\n",
       "      <td>0.394603</td>\n",
       "      <td>0.456246</td>\n",
       "      <td>0.427892</td>\n",
       "      <td>1.000000</td>\n",
       "    </tr>\n",
       "  </tbody>\n",
       "</table>\n",
       "</div>"
      ],
      "text/plain": [
       "                              max_Infection_Rate  GDP per capita  \\\n",
       "max_Infection_Rate                      1.000000        0.250118   \n",
       "GDP per capita                          0.250118        1.000000   \n",
       "Social support                          0.191958        0.759468   \n",
       "Healthy life expectancy                 0.289263        0.863062   \n",
       "Freedom to make life choices            0.078196        0.394603   \n",
       "\n",
       "                              Social support  Healthy life expectancy  \\\n",
       "max_Infection_Rate                  0.191958                 0.289263   \n",
       "GDP per capita                      0.759468                 0.863062   \n",
       "Social support                      1.000000                 0.765286   \n",
       "Healthy life expectancy             0.765286                 1.000000   \n",
       "Freedom to make life choices        0.456246                 0.427892   \n",
       "\n",
       "                              Freedom to make life choices  \n",
       "max_Infection_Rate                                0.078196  \n",
       "GDP per capita                                    0.394603  \n",
       "Social support                                    0.456246  \n",
       "Healthy life expectancy                           0.427892  \n",
       "Freedom to make life choices                      1.000000  "
      ]
     },
     "execution_count": 64,
     "metadata": {},
     "output_type": "execute_result"
    }
   ],
   "source": [
    "data.corr()"
   ]
  },
  {
   "cell_type": "code",
   "execution_count": 69,
   "id": "ec65f0b6",
   "metadata": {},
   "outputs": [
    {
     "name": "stderr",
     "output_type": "stream",
     "text": [
      "C:\\Users\\ihedi\\anaconda3\\lib\\site-packages\\seaborn\\_decorators.py:36: FutureWarning: Pass the following variables as keyword args: x, y. From version 0.12, the only valid positional argument will be `data`, and passing other arguments without an explicit keyword will result in an error or misinterpretation.\n",
      "  warnings.warn(\n"
     ]
    },
    {
     "data": {
      "text/plain": [
       "<AxesSubplot:xlabel='GDP per capita', ylabel='max_Infection_Rate'>"
      ]
     },
     "execution_count": 69,
     "metadata": {},
     "output_type": "execute_result"
    },
    {
     "data": {
      "image/png": "[encoded data removed]",
      "text/plain": [
       "<Figure size 432x288 with 1 Axes>"
      ]
     },
     "metadata": {
      "needs_background": "light"
     },
     "output_type": "display_data"
    }
   ],
   "source": [
    "#Plotting GDP vs maximum Infection rate\n",
    "x = data[\"GDP per capita\"]\n",
    "y = data[\"max_Infection_Rate\"]\n",
    "sns.regplot(x,np.log(y))"
   ]
  },
  {
   "cell_type": "code",
   "execution_count": null,
   "id": "64720192",
   "metadata": {},
   "outputs": [],
   "source": [
    "#Plotting Healthy life expectancy vs maximum Infection rate\n",
    "x = data[\"Healthy life expectancy\"]\n",
    "y = data[\"max_Infection_Rate\"]\n",
    "sns.regplot(x,np.log(y))"
   ]
  },
  {
   "cell_type": "code",
   "execution_count": null,
   "id": "24932d13",
   "metadata": {},
   "outputs": [],
   "source": [
    "#Plotting Freedom to make life choices vs maximum Infection rate\n",
    "x = data[\"Freedom to make life choices\"]\n",
    "y = data[\"max_Infection_Rate\"]\n",
    "sns.regplot(x,np.log(y))"
   ]
  }
 ],
 "metadata": {
  "kernelspec": {
   "display_name": "Python 3",
   "language": "python",
   "name": "python3"
  },
  "language_info": {
   "codemirror_mode": {
    "name": "ipython",
    "version": 3
   },
   "file_extension": ".py",
   "mimetype": "text/x-python",
   "name": "python",
   "nbconvert_exporter": "python",
   "pygments_lexer": "ipython3",
   "version": "3.8.8"
  }
 },
 "nbformat": 4,
 "nbformat_minor": 5
}
